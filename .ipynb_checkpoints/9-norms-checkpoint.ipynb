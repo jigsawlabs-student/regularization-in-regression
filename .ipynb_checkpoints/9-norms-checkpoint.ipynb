{
 "cells": [
  {
   "cell_type": "markdown",
   "metadata": {},
   "source": [
    "# Norms"
   ]
  },
  {
   "cell_type": "markdown",
   "metadata": {},
   "source": [
    "L2 - Norm: $|| B||_2 = \\sqrt{B_0^2 + B_1^2}$\n",
    "\n",
    "L1 - Norm: $||B||_1 = |B_0| + |B_1|$ \n",
    "* Notice that the L1 norm is bigger "
   ]
  },
  {
   "cell_type": "markdown",
   "metadata": {},
   "source": [
    "### Fixing the Norm"
   ]
  },
  {
   "cell_type": "markdown",
   "metadata": {},
   "source": [
    "* Now if we say $||B||_2= 2$, then we just draw a circle, with radius 2."
   ]
  },
  {
   "cell_type": "markdown",
   "metadata": {},
   "source": [
    "Generally, we try to minimize the sum of the squared errors."
   ]
  },
  {
   "cell_type": "markdown",
   "metadata": {},
   "source": [
    "Gauss markov theorem \n",
    "\n",
    "The coefficients\n",
    "* Best - Regression coefficients that have the smallest variance.  \n",
    "    * So these are unbiased.  And they have the smallest variance.  But if we find a biased one, we can get it to have a smaller variance.\n",
    "* When we have high correlations.  It causes them to have an abnormally large variance.  So the betas may have a large variance.  \n",
    "\n",
    "    * Linear\n",
    "    * Unbiased \n",
    "    * Estimators"
   ]
  },
  {
   "cell_type": "markdown",
   "metadata": {},
   "source": [
    "So now with ridge regression, we use something that is biased.\n",
    "   * Because if we add a biased estimator, we can get even smaller variance."
   ]
  },
  {
   "cell_type": "markdown",
   "metadata": {},
   "source": [
    "So we want to control for these betas, and the real issue we have is that the betas can get really large.  So we want to put a constraint on how large the betas can get.  \n",
    "\n",
    "* So now we place a constraint, and say subject to:"
   ]
  },
  {
   "cell_type": "markdown",
   "metadata": {},
   "source": [
    "$||B||_2^2 \\le c^2$"
   ]
  },
  {
   "cell_type": "code",
   "execution_count": null,
   "metadata": {},
   "outputs": [],
   "source": []
  }
 ],
 "metadata": {
  "kernelspec": {
   "display_name": "Python 3",
   "language": "python",
   "name": "python3"
  },
  "language_info": {
   "codemirror_mode": {
    "name": "ipython",
    "version": 3
   },
   "file_extension": ".py",
   "mimetype": "text/x-python",
   "name": "python",
   "nbconvert_exporter": "python",
   "pygments_lexer": "ipython3",
   "version": "3.7.4"
  }
 },
 "nbformat": 4,
 "nbformat_minor": 4
}
