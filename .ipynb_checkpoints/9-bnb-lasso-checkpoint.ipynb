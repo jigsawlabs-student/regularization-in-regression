{
 "cells": [
  {
   "cell_type": "markdown",
   "metadata": {},
   "source": [
    "# Variance In Linear Regression"
   ]
  },
  {
   "cell_type": "markdown",
   "metadata": {},
   "source": [
    "1. Show the problem\n",
    "    * high degree of variance, \n",
    "    * Redefine variance\n",
    "    * multicollinearity - remember sign flipping, etc.\n",
    "2. Show the solution\n",
    "    * Show how model fits worse on training set, but better on the holdout set\n",
    "    \n",
    "3. Then in lessons that follow, we'll explain why."
   ]
  },
  {
   "cell_type": "code",
   "execution_count": 129,
   "metadata": {},
   "outputs": [],
   "source": [
    "import pandas as pd\n",
    "df = pd.read_csv('./listings_train_df.csv', index_col = 0)\n",
    "df_subset = df[df['price'] < 320]"
   ]
  },
  {
   "cell_type": "code",
   "execution_count": 130,
   "metadata": {},
   "outputs": [
    {
     "data": {
      "text/plain": [
       "(17905, 322)"
      ]
     },
     "execution_count": 130,
     "metadata": {},
     "output_type": "execute_result"
    }
   ],
   "source": [
    "df_subset.shape"
   ]
  },
  {
   "cell_type": "code",
   "execution_count": 132,
   "metadata": {},
   "outputs": [],
   "source": [
    "# df.shape"
   ]
  },
  {
   "cell_type": "code",
   "execution_count": 142,
   "metadata": {},
   "outputs": [],
   "source": [
    "X_train = df.drop('price', axis = 1)\n",
    "y_train = np.log(df['price'])\n",
    "# from sklearn.model_selection import train_test_split\n"
   ]
  },
  {
   "cell_type": "code",
   "execution_count": 161,
   "metadata": {},
   "outputs": [],
   "source": [
    "df_test = pd.read_csv('./listings_test_df.csv', index_col = 0)\n",
    "X_test =  df_test.drop('price', axis = 1)\n",
    "y_test = np.log(df_test['price'])"
   ]
  },
  {
   "cell_type": "markdown",
   "metadata": {},
   "source": [
    "Now we expect larger coefficients to have larger amounts of variance, so let's also scale the coefficients, so that we can more easily compare variance between coefficients."
   ]
  },
  {
   "cell_type": "code",
   "execution_count": 143,
   "metadata": {},
   "outputs": [],
   "source": [
    "from sklearn.preprocessing import StandardScaler"
   ]
  },
  {
   "cell_type": "code",
   "execution_count": 144,
   "metadata": {},
   "outputs": [],
   "source": [
    "scaler = StandardScaler()\n",
    "transformed_X = pd.DataFrame(scaler.fit_transform(X_train), columns = X_train.columns)"
   ]
  },
  {
   "cell_type": "code",
   "execution_count": 145,
   "metadata": {},
   "outputs": [
    {
     "data": {
      "text/plain": [
       "(17952, 321)"
      ]
     },
     "execution_count": 145,
     "metadata": {},
     "output_type": "execute_result"
    }
   ],
   "source": [
    "transformed_X.shape"
   ]
  },
  {
   "cell_type": "code",
   "execution_count": 151,
   "metadata": {},
   "outputs": [],
   "source": [
    "from sklearn.linear_model import LinearRegression\n",
    "linear_models = []\n",
    "for i in range(10):\n",
    "    X_sample = transformed_X.sample(17952, random_state = i)\n",
    "    y_sample = y.loc[X_sample.index]\n",
    "    model = LinearRegression().fit(X_sample, y_sample)\n",
    "    linear_models.append(model)"
   ]
  },
  {
   "cell_type": "markdown",
   "metadata": {},
   "source": [
    "Now let's look at the coefficients in the model."
   ]
  },
  {
   "cell_type": "code",
   "execution_count": 181,
   "metadata": {},
   "outputs": [
    {
     "data": {
      "text/plain": [
       "first_reviewWeek_is_na         4.017760e+04\n",
       "first_reviewDay_is_na          4.017760e+04\n",
       "first_reviewDayofweek_is_na    4.017760e+04\n",
       "first_reviewDayofyear_is_na    4.017760e+04\n",
       "last_reviewYear_is_na          8.575424e+20\n",
       "last_reviewMonth_is_na         8.575424e+20\n",
       "last_reviewWeek_is_na          8.575424e+20\n",
       "last_reviewDay_is_na           8.952607e+21\n",
       "last_reviewDayofweek_is_na     3.440071e+21\n",
       "last_reviewDayofyear_is_na     3.948345e+21\n",
       "dtype: float64"
      ]
     },
     "execution_count": 181,
     "metadata": {},
     "output_type": "execute_result"
    }
   ],
   "source": [
    "import numpy as np\n",
    "stacked_coef = np.stack([model.coef_ for model in linear_models])\n",
    "coef_df = pd.DataFrame(stacked_coef, columns = X_sample.columns)\n",
    "coef_df.var().iloc[-10::]"
   ]
  },
  {
   "cell_type": "markdown",
   "metadata": {},
   "source": [
    "While some of the coefficients stay fairly consistent.  Others appear to widely vary.  For example, notice that the cancellation policy coefficients range between $-28$ ,and $-.5$.  It's hard to know which to believe.\n",
    "\n",
    "Moreover, remember that variance in our model is a sign of our model overfitting to the randomness in the data.  Above we randomly sample different subsets of the data, and get wildly different results with certain features."
   ]
  },
  {
   "cell_type": "markdown",
   "metadata": {},
   "source": [
    "We can quantify this variance, by well looking at the variance."
   ]
  },
  {
   "cell_type": "markdown",
   "metadata": {},
   "source": [
    "That's a lot of variance."
   ]
  },
  {
   "cell_type": "markdown",
   "metadata": {},
   "source": [
    "> Note that high amounts of variance is often due to multicollinearity in among features.  A high coefficient in one attribute could lead to a high value in a different feature to offset the effect."
   ]
  },
  {
   "cell_type": "code",
   "execution_count": 154,
   "metadata": {},
   "outputs": [],
   "source": [
    "train_scores = []\n",
    "for model in linear_models:\n",
    "    score = model.score(transformed_X, y_train)\n",
    "    train_scores.append(score)"
   ]
  },
  {
   "cell_type": "code",
   "execution_count": 155,
   "metadata": {},
   "outputs": [
    {
     "data": {
      "text/plain": [
       "[0.5919382427317739,\n",
       " 0.5919466915768645,\n",
       " 0.5919461417286767,\n",
       " 0.5919466117937522,\n",
       " 0.5919198330867317,\n",
       " 0.591936567703342,\n",
       " 0.5919431518680847,\n",
       " 0.5919462451065304,\n",
       " 0.5919466920109846,\n",
       " 0.5919349439074786]"
      ]
     },
     "execution_count": 155,
     "metadata": {},
     "output_type": "execute_result"
    }
   ],
   "source": [
    "train_scores"
   ]
  },
  {
   "cell_type": "code",
   "execution_count": 158,
   "metadata": {},
   "outputs": [],
   "source": [
    "transformed_X_test = scaler.fit_transform(X_test)"
   ]
  },
  {
   "cell_type": "code",
   "execution_count": 163,
   "metadata": {},
   "outputs": [],
   "source": [
    "test_scores = []\n",
    "for model in linear_models:\n",
    "    score = model.score(transformed_X_test, y_test)\n",
    "    test_scores.append(score)"
   ]
  },
  {
   "cell_type": "code",
   "execution_count": 172,
   "metadata": {},
   "outputs": [
    {
     "data": {
      "text/plain": [
       "[-1.6067398303872696e+19,\n",
       " -8.902554393370783e+17,\n",
       " -5.308387726759547e+19,\n",
       " -3.427887085243626e+19]"
      ]
     },
     "execution_count": 172,
     "metadata": {},
     "output_type": "execute_result"
    }
   ],
   "source": [
    "test_scores[:4]"
   ]
  },
  {
   "cell_type": "markdown",
   "metadata": {},
   "source": [
    "### Combatting Variance"
   ]
  },
  {
   "cell_type": "code",
   "execution_count": 171,
   "metadata": {},
   "outputs": [
    {
     "data": {
      "text/plain": [
       "0.5839889248274908"
      ]
     },
     "execution_count": 171,
     "metadata": {},
     "output_type": "execute_result"
    }
   ],
   "source": [
    "from sklearn.linear_model import RidgeCV\n",
    "\n",
    "ridge = RidgeCV(alphas = np.linspace(.1, 10, 100))\n",
    "ridge.fit(transformed_X, y_train).score(transformed_X_test, y_test)"
   ]
  },
  {
   "cell_type": "code",
   "execution_count": 173,
   "metadata": {},
   "outputs": [
    {
     "data": {
      "text/plain": [
       "0.5916036599781592"
      ]
     },
     "execution_count": 173,
     "metadata": {},
     "output_type": "execute_result"
    }
   ],
   "source": [
    "ridge.score(transformed_X, y_train)"
   ]
  },
  {
   "cell_type": "code",
   "execution_count": 182,
   "metadata": {},
   "outputs": [
    {
     "data": {
      "text/plain": [
       "0.1"
      ]
     },
     "execution_count": 182,
     "metadata": {},
     "output_type": "execute_result"
    }
   ],
   "source": [
    "ridge.alpha_"
   ]
  },
  {
   "cell_type": "markdown",
   "metadata": {},
   "source": [
    "With machine learning one mechanism is to "
   ]
  },
  {
   "cell_type": "markdown",
   "metadata": {},
   "source": [
    "> Ok"
   ]
  },
  {
   "cell_type": "markdown",
   "metadata": {},
   "source": [
    "While we can see that some of our coefficients, remain fairly consistent, the last two displayed coefficients have a large degress of variance."
   ]
  },
  {
   "cell_type": "markdown",
   "metadata": {},
   "source": [
    "Now in our models, we have a preference for a simpler model."
   ]
  },
  {
   "cell_type": "code",
   "execution_count": 56,
   "metadata": {},
   "outputs": [],
   "source": [
    "selected_cols = ['cancellation_policy_x0_flexible',\n",
    "       'cancellation_policy_x0_moderate',\n",
    "       'cancellation_policy_x0_strict_14_with_grace_period',\n",
    "       'accommodates', 'room_type_x0_Entire home/apt', 'availability_90',\n",
    "       'bedrooms', 'neighbourhood_group_cleansed_x0_Mitte',\n",
    "       'guests_included', 'cleaning_fee',\n",
    "       'calculated_host_listings_count', 'bathrooms',\n",
    "       'neighbourhood_cleansed_x0_Moabit West',\n",
    "       'neighbourhood_cleansed_x0_Osloer Straße',\n",
    "       'neighbourhood_cleansed_x0_Parkviertel',\n",
    "       'property_type_x0_Apartment',\n",
    "       'neighbourhood_cleansed_x0_Wedding Zentrum',\n",
    "       'neighbourhood_group_cleansed_x0_Friedrichshain-Kreuzberg',\n",
    "       'last_reviewYear_is_na', 'host_listings_count_is_na',\n",
    "       'host_sinceElapsed', 'host_sinceYear', 'last_reviewElapsed', 'price']"
   ]
  },
  {
   "cell_type": "code",
   "execution_count": 52,
   "metadata": {},
   "outputs": [],
   "source": [
    "selected_df = df[selected_cols]"
   ]
  },
  {
   "cell_type": "code",
   "execution_count": 53,
   "metadata": {},
   "outputs": [],
   "source": [
    "selected_df.to_csv('./bnb_selected_cols.csv')"
   ]
  },
  {
   "cell_type": "code",
   "execution_count": 54,
   "metadata": {},
   "outputs": [],
   "source": [
    "selected_cols_df = pd.read_csv('./bnb_selected_cols.csv', index_col = 0)"
   ]
  },
  {
   "cell_type": "code",
   "execution_count": 55,
   "metadata": {},
   "outputs": [
    {
     "data": {
      "text/plain": [
       "Index(['cancellation_policy_x0_flexible', 'cancellation_policy_x0_moderate',\n",
       "       'cancellation_policy_x0_strict_14_with_grace_period', 'accommodates',\n",
       "       'room_type_x0_Entire home/apt', 'availability_90', 'bedrooms',\n",
       "       'neighbourhood_group_cleansed_x0_Mitte', 'guests_included',\n",
       "       'cleaning_fee', 'calculated_host_listings_count', 'bathrooms',\n",
       "       'neighbourhood_cleansed_x0_Moabit West',\n",
       "       'neighbourhood_cleansed_x0_Osloer Straße',\n",
       "       'neighbourhood_cleansed_x0_Parkviertel', 'property_type_x0_Apartment',\n",
       "       'neighbourhood_cleansed_x0_Wedding Zentrum',\n",
       "       'neighbourhood_group_cleansed_x0_Friedrichshain-Kreuzberg',\n",
       "       'last_reviewYear_is_na', 'host_listings_count_is_na',\n",
       "       'host_sinceElapsed', 'host_sinceYear', 'last_reviewElapsed', 'price'],\n",
       "      dtype='object')"
      ]
     },
     "execution_count": 55,
     "metadata": {},
     "output_type": "execute_result"
    }
   ],
   "source": [
    "selected_cols_df.columns"
   ]
  },
  {
   "cell_type": "code",
   "execution_count": 72,
   "metadata": {},
   "outputs": [],
   "source": [
    "# ' guests_included, accommodates"
   ]
  },
  {
   "cell_type": "code",
   "execution_count": 58,
   "metadata": {},
   "outputs": [],
   "source": [
    "X = selected_df.drop('price', axis = 1)\n",
    "y = selected_df['price']\n",
    "\n",
    "from sklearn.model_selection import train_test_split\n",
    "X_train, X_test, y_train, y_test = train_test_split(X, y)"
   ]
  },
  {
   "cell_type": "code",
   "execution_count": 70,
   "metadata": {},
   "outputs": [],
   "source": [
    "from sklearn.preprocessing import StandardScaler\n",
    "\n",
    "scaler = StandardScaler()\n",
    "X_train_transformed = scaler.fit_transform(X_train)\n",
    "X_test_transformed = scaler.transform(X_test)"
   ]
  },
  {
   "cell_type": "code",
   "execution_count": 68,
   "metadata": {},
   "outputs": [
    {
     "data": {
      "text/html": [
       "<div>\n",
       "<style scoped>\n",
       "    .dataframe tbody tr th:only-of-type {\n",
       "        vertical-align: middle;\n",
       "    }\n",
       "\n",
       "    .dataframe tbody tr th {\n",
       "        vertical-align: top;\n",
       "    }\n",
       "\n",
       "    .dataframe thead th {\n",
       "        text-align: right;\n",
       "    }\n",
       "</style>\n",
       "<table border=\"1\" class=\"dataframe\">\n",
       "  <thead>\n",
       "    <tr style=\"text-align: right;\">\n",
       "      <th></th>\n",
       "      <th>cancellation_policy_x0_flexible</th>\n",
       "      <th>cancellation_policy_x0_moderate</th>\n",
       "      <th>cancellation_policy_x0_strict_14_with_grace_period</th>\n",
       "      <th>accommodates</th>\n",
       "      <th>room_type_x0_Entire home/apt</th>\n",
       "      <th>availability_90</th>\n",
       "      <th>bedrooms</th>\n",
       "      <th>neighbourhood_group_cleansed_x0_Mitte</th>\n",
       "      <th>guests_included</th>\n",
       "      <th>cleaning_fee</th>\n",
       "      <th>...</th>\n",
       "      <th>neighbourhood_cleansed_x0_Osloer Straße</th>\n",
       "      <th>neighbourhood_cleansed_x0_Parkviertel</th>\n",
       "      <th>property_type_x0_Apartment</th>\n",
       "      <th>neighbourhood_cleansed_x0_Wedding Zentrum</th>\n",
       "      <th>neighbourhood_group_cleansed_x0_Friedrichshain-Kreuzberg</th>\n",
       "      <th>last_reviewYear_is_na</th>\n",
       "      <th>host_listings_count_is_na</th>\n",
       "      <th>host_sinceElapsed</th>\n",
       "      <th>host_sinceYear</th>\n",
       "      <th>last_reviewElapsed</th>\n",
       "    </tr>\n",
       "  </thead>\n",
       "  <tbody>\n",
       "    <tr>\n",
       "      <th>0</th>\n",
       "      <td>-0.823514</td>\n",
       "      <td>-0.681493</td>\n",
       "      <td>1.619946</td>\n",
       "      <td>-1.089895</td>\n",
       "      <td>-0.942669</td>\n",
       "      <td>1.566217</td>\n",
       "      <td>-0.240469</td>\n",
       "      <td>-0.507671</td>\n",
       "      <td>-0.393754</td>\n",
       "      <td>-1.198509</td>\n",
       "      <td>...</td>\n",
       "      <td>-0.122794</td>\n",
       "      <td>-0.130071</td>\n",
       "      <td>0.340114</td>\n",
       "      <td>-0.151219</td>\n",
       "      <td>-0.567515</td>\n",
       "      <td>-0.453060</td>\n",
       "      <td>-0.037592</td>\n",
       "      <td>0.007717</td>\n",
       "      <td>-0.340476</td>\n",
       "      <td>0.458011</td>\n",
       "    </tr>\n",
       "    <tr>\n",
       "      <th>1</th>\n",
       "      <td>-0.823514</td>\n",
       "      <td>1.467366</td>\n",
       "      <td>-0.617304</td>\n",
       "      <td>-0.415739</td>\n",
       "      <td>1.060818</td>\n",
       "      <td>-0.700872</td>\n",
       "      <td>-1.834779</td>\n",
       "      <td>-0.507671</td>\n",
       "      <td>-0.393754</td>\n",
       "      <td>0.002345</td>\n",
       "      <td>...</td>\n",
       "      <td>-0.122794</td>\n",
       "      <td>-0.130071</td>\n",
       "      <td>0.340114</td>\n",
       "      <td>-0.151219</td>\n",
       "      <td>-0.567515</td>\n",
       "      <td>2.207212</td>\n",
       "      <td>-0.037592</td>\n",
       "      <td>0.253095</td>\n",
       "      <td>1.216721</td>\n",
       "      <td>-2.207160</td>\n",
       "    </tr>\n",
       "    <tr>\n",
       "      <th>2</th>\n",
       "      <td>-0.823514</td>\n",
       "      <td>1.467366</td>\n",
       "      <td>-0.617304</td>\n",
       "      <td>-0.415739</td>\n",
       "      <td>1.060818</td>\n",
       "      <td>0.078439</td>\n",
       "      <td>-0.240469</td>\n",
       "      <td>-0.507671</td>\n",
       "      <td>-0.393754</td>\n",
       "      <td>-0.524448</td>\n",
       "      <td>...</td>\n",
       "      <td>-0.122794</td>\n",
       "      <td>-0.130071</td>\n",
       "      <td>-2.940187</td>\n",
       "      <td>-0.151219</td>\n",
       "      <td>-0.567515</td>\n",
       "      <td>-0.453060</td>\n",
       "      <td>-0.037592</td>\n",
       "      <td>-0.275922</td>\n",
       "      <td>-1.897672</td>\n",
       "      <td>0.458161</td>\n",
       "    </tr>\n",
       "  </tbody>\n",
       "</table>\n",
       "<p>3 rows × 23 columns</p>\n",
       "</div>"
      ],
      "text/plain": [
       "   cancellation_policy_x0_flexible  cancellation_policy_x0_moderate  \\\n",
       "0                        -0.823514                        -0.681493   \n",
       "1                        -0.823514                         1.467366   \n",
       "2                        -0.823514                         1.467366   \n",
       "\n",
       "   cancellation_policy_x0_strict_14_with_grace_period  accommodates  \\\n",
       "0                                           1.619946      -1.089895   \n",
       "1                                          -0.617304      -0.415739   \n",
       "2                                          -0.617304      -0.415739   \n",
       "\n",
       "   room_type_x0_Entire home/apt  availability_90  bedrooms  \\\n",
       "0                     -0.942669         1.566217 -0.240469   \n",
       "1                      1.060818        -0.700872 -1.834779   \n",
       "2                      1.060818         0.078439 -0.240469   \n",
       "\n",
       "   neighbourhood_group_cleansed_x0_Mitte  guests_included  cleaning_fee  ...  \\\n",
       "0                              -0.507671        -0.393754     -1.198509  ...   \n",
       "1                              -0.507671        -0.393754      0.002345  ...   \n",
       "2                              -0.507671        -0.393754     -0.524448  ...   \n",
       "\n",
       "   neighbourhood_cleansed_x0_Osloer Straße  \\\n",
       "0                                -0.122794   \n",
       "1                                -0.122794   \n",
       "2                                -0.122794   \n",
       "\n",
       "   neighbourhood_cleansed_x0_Parkviertel  property_type_x0_Apartment  \\\n",
       "0                              -0.130071                    0.340114   \n",
       "1                              -0.130071                    0.340114   \n",
       "2                              -0.130071                   -2.940187   \n",
       "\n",
       "   neighbourhood_cleansed_x0_Wedding Zentrum  \\\n",
       "0                                  -0.151219   \n",
       "1                                  -0.151219   \n",
       "2                                  -0.151219   \n",
       "\n",
       "   neighbourhood_group_cleansed_x0_Friedrichshain-Kreuzberg  \\\n",
       "0                                          -0.567515          \n",
       "1                                          -0.567515          \n",
       "2                                          -0.567515          \n",
       "\n",
       "   last_reviewYear_is_na  host_listings_count_is_na  host_sinceElapsed  \\\n",
       "0              -0.453060                  -0.037592           0.007717   \n",
       "1               2.207212                  -0.037592           0.253095   \n",
       "2              -0.453060                  -0.037592          -0.275922   \n",
       "\n",
       "   host_sinceYear  last_reviewElapsed  \n",
       "0       -0.340476            0.458011  \n",
       "1        1.216721           -2.207160  \n",
       "2       -1.897672            0.458161  \n",
       "\n",
       "[3 rows x 23 columns]"
      ]
     },
     "execution_count": 68,
     "metadata": {},
     "output_type": "execute_result"
    }
   ],
   "source": [
    "scaled_X_train = pd.DataFrame(X_train_transformed, columns = X.columns)\n",
    "scaled_X[:3]"
   ]
  },
  {
   "cell_type": "code",
   "execution_count": 69,
   "metadata": {},
   "outputs": [],
   "source": [
    "from sklearn.linear_model import LinearRegression\n",
    "\n",
    "model = LinearRegression().fit(scaled_X_train, y_train)"
   ]
  },
  {
   "cell_type": "code",
   "execution_count": 71,
   "metadata": {},
   "outputs": [
    {
     "data": {
      "text/plain": [
       "0.5033415469476993"
      ]
     },
     "execution_count": 71,
     "metadata": {},
     "output_type": "execute_result"
    }
   ],
   "source": [
    "model.score(X_test_transformed, y_test)"
   ]
  },
  {
   "cell_type": "code",
   "execution_count": 73,
   "metadata": {},
   "outputs": [
    {
     "data": {
      "text/html": [
       "<div>\n",
       "<style scoped>\n",
       "    .dataframe tbody tr th:only-of-type {\n",
       "        vertical-align: middle;\n",
       "    }\n",
       "\n",
       "    .dataframe tbody tr th {\n",
       "        vertical-align: top;\n",
       "    }\n",
       "\n",
       "    .dataframe thead th {\n",
       "        text-align: right;\n",
       "    }\n",
       "</style>\n",
       "<table border=\"1\" class=\"dataframe\">\n",
       "  <thead>\n",
       "    <tr style=\"text-align: right;\">\n",
       "      <th></th>\n",
       "      <th>features</th>\n",
       "      <th>coef</th>\n",
       "      <th>abs_coef</th>\n",
       "    </tr>\n",
       "  </thead>\n",
       "  <tbody>\n",
       "    <tr>\n",
       "      <th>18</th>\n",
       "      <td>last_reviewYear_is_na</td>\n",
       "      <td>139.217008</td>\n",
       "      <td>139.217008</td>\n",
       "    </tr>\n",
       "    <tr>\n",
       "      <th>22</th>\n",
       "      <td>last_reviewElapsed</td>\n",
       "      <td>136.917935</td>\n",
       "      <td>136.917935</td>\n",
       "    </tr>\n",
       "    <tr>\n",
       "      <th>0</th>\n",
       "      <td>cancellation_policy_x0_flexible</td>\n",
       "      <td>-20.365775</td>\n",
       "      <td>20.365775</td>\n",
       "    </tr>\n",
       "    <tr>\n",
       "      <th>1</th>\n",
       "      <td>cancellation_policy_x0_moderate</td>\n",
       "      <td>-18.703297</td>\n",
       "      <td>18.703297</td>\n",
       "    </tr>\n",
       "    <tr>\n",
       "      <th>2</th>\n",
       "      <td>cancellation_policy_x0_strict_14_with_grace_pe...</td>\n",
       "      <td>-17.266226</td>\n",
       "      <td>17.266226</td>\n",
       "    </tr>\n",
       "    <tr>\n",
       "      <th>3</th>\n",
       "      <td>accommodates</td>\n",
       "      <td>10.077555</td>\n",
       "      <td>10.077555</td>\n",
       "    </tr>\n",
       "    <tr>\n",
       "      <th>4</th>\n",
       "      <td>room_type_x0_Entire home/apt</td>\n",
       "      <td>10.076962</td>\n",
       "      <td>10.076962</td>\n",
       "    </tr>\n",
       "    <tr>\n",
       "      <th>19</th>\n",
       "      <td>host_listings_count_is_na</td>\n",
       "      <td>-8.711553</td>\n",
       "      <td>8.711553</td>\n",
       "    </tr>\n",
       "    <tr>\n",
       "      <th>20</th>\n",
       "      <td>host_sinceElapsed</td>\n",
       "      <td>-8.476337</td>\n",
       "      <td>8.476337</td>\n",
       "    </tr>\n",
       "    <tr>\n",
       "      <th>5</th>\n",
       "      <td>availability_90</td>\n",
       "      <td>6.715953</td>\n",
       "      <td>6.715953</td>\n",
       "    </tr>\n",
       "    <tr>\n",
       "      <th>6</th>\n",
       "      <td>bedrooms</td>\n",
       "      <td>6.350002</td>\n",
       "      <td>6.350002</td>\n",
       "    </tr>\n",
       "    <tr>\n",
       "      <th>7</th>\n",
       "      <td>neighbourhood_group_cleansed_x0_Mitte</td>\n",
       "      <td>6.175735</td>\n",
       "      <td>6.175735</td>\n",
       "    </tr>\n",
       "    <tr>\n",
       "      <th>8</th>\n",
       "      <td>guests_included</td>\n",
       "      <td>5.101046</td>\n",
       "      <td>5.101046</td>\n",
       "    </tr>\n",
       "    <tr>\n",
       "      <th>9</th>\n",
       "      <td>cleaning_fee</td>\n",
       "      <td>4.868959</td>\n",
       "      <td>4.868959</td>\n",
       "    </tr>\n",
       "    <tr>\n",
       "      <th>10</th>\n",
       "      <td>calculated_host_listings_count</td>\n",
       "      <td>-4.063589</td>\n",
       "      <td>4.063589</td>\n",
       "    </tr>\n",
       "    <tr>\n",
       "      <th>11</th>\n",
       "      <td>bathrooms</td>\n",
       "      <td>3.602521</td>\n",
       "      <td>3.602521</td>\n",
       "    </tr>\n",
       "    <tr>\n",
       "      <th>14</th>\n",
       "      <td>neighbourhood_cleansed_x0_Parkviertel</td>\n",
       "      <td>-3.109866</td>\n",
       "      <td>3.109866</td>\n",
       "    </tr>\n",
       "    <tr>\n",
       "      <th>12</th>\n",
       "      <td>neighbourhood_cleansed_x0_Moabit West</td>\n",
       "      <td>-2.831186</td>\n",
       "      <td>2.831186</td>\n",
       "    </tr>\n",
       "    <tr>\n",
       "      <th>15</th>\n",
       "      <td>property_type_x0_Apartment</td>\n",
       "      <td>-2.828109</td>\n",
       "      <td>2.828109</td>\n",
       "    </tr>\n",
       "    <tr>\n",
       "      <th>16</th>\n",
       "      <td>neighbourhood_cleansed_x0_Wedding Zentrum</td>\n",
       "      <td>-2.606531</td>\n",
       "      <td>2.606531</td>\n",
       "    </tr>\n",
       "    <tr>\n",
       "      <th>13</th>\n",
       "      <td>neighbourhood_cleansed_x0_Osloer Straße</td>\n",
       "      <td>-2.530007</td>\n",
       "      <td>2.530007</td>\n",
       "    </tr>\n",
       "    <tr>\n",
       "      <th>17</th>\n",
       "      <td>neighbourhood_group_cleansed_x0_Friedrichshain...</td>\n",
       "      <td>2.202093</td>\n",
       "      <td>2.202093</td>\n",
       "    </tr>\n",
       "    <tr>\n",
       "      <th>21</th>\n",
       "      <td>host_sinceYear</td>\n",
       "      <td>1.086606</td>\n",
       "      <td>1.086606</td>\n",
       "    </tr>\n",
       "  </tbody>\n",
       "</table>\n",
       "</div>"
      ],
      "text/plain": [
       "                                             features        coef    abs_coef\n",
       "18                              last_reviewYear_is_na  139.217008  139.217008\n",
       "22                                 last_reviewElapsed  136.917935  136.917935\n",
       "0                     cancellation_policy_x0_flexible  -20.365775   20.365775\n",
       "1                     cancellation_policy_x0_moderate  -18.703297   18.703297\n",
       "2   cancellation_policy_x0_strict_14_with_grace_pe...  -17.266226   17.266226\n",
       "3                                        accommodates   10.077555   10.077555\n",
       "4                        room_type_x0_Entire home/apt   10.076962   10.076962\n",
       "19                          host_listings_count_is_na   -8.711553    8.711553\n",
       "20                                  host_sinceElapsed   -8.476337    8.476337\n",
       "5                                     availability_90    6.715953    6.715953\n",
       "6                                            bedrooms    6.350002    6.350002\n",
       "7               neighbourhood_group_cleansed_x0_Mitte    6.175735    6.175735\n",
       "8                                     guests_included    5.101046    5.101046\n",
       "9                                        cleaning_fee    4.868959    4.868959\n",
       "10                     calculated_host_listings_count   -4.063589    4.063589\n",
       "11                                          bathrooms    3.602521    3.602521\n",
       "14              neighbourhood_cleansed_x0_Parkviertel   -3.109866    3.109866\n",
       "12              neighbourhood_cleansed_x0_Moabit West   -2.831186    2.831186\n",
       "15                         property_type_x0_Apartment   -2.828109    2.828109\n",
       "16          neighbourhood_cleansed_x0_Wedding Zentrum   -2.606531    2.606531\n",
       "13            neighbourhood_cleansed_x0_Osloer Straße   -2.530007    2.530007\n",
       "17  neighbourhood_group_cleansed_x0_Friedrichshain...    2.202093    2.202093\n",
       "21                                     host_sinceYear    1.086606    1.086606"
      ]
     },
     "execution_count": 73,
     "metadata": {},
     "output_type": "execute_result"
    }
   ],
   "source": [
    "import numpy as np\n",
    "df_coef = pd.DataFrame({'features': X.columns, 'coef': model.coef_, 'abs_coef': np.abs(model.coef_)})\n",
    "df_coef.sort_values('abs_coef', ascending = False)"
   ]
  },
  {
   "cell_type": "code",
   "execution_count": 74,
   "metadata": {},
   "outputs": [
    {
     "name": "stderr",
     "output_type": "stream",
     "text": [
      "/Users/jeff/opt/anaconda3/lib/python3.7/site-packages/sklearn/utils/deprecation.py:143: FutureWarning: The sklearn.metrics.scorer module is  deprecated in version 0.22 and will be removed in version 0.24. The corresponding classes / functions should instead be imported from sklearn.metrics. Anything that cannot be imported from sklearn.metrics is now part of the private API.\n",
      "  warnings.warn(message, FutureWarning)\n",
      "/Users/jeff/opt/anaconda3/lib/python3.7/site-packages/sklearn/utils/deprecation.py:143: FutureWarning: The sklearn.feature_selection.base module is  deprecated in version 0.22 and will be removed in version 0.24. The corresponding classes / functions should instead be imported from sklearn.feature_selection. Anything that cannot be imported from sklearn.feature_selection is now part of the private API.\n",
      "  warnings.warn(message, FutureWarning)\n"
     ]
    }
   ],
   "source": [
    "from eli5.sklearn import PermutationImportance\n",
    "import eli5\n",
    "import numpy as np\n",
    "\n",
    "perm = PermutationImportance(model).fit(X_test, y_test)\n",
    "\n",
    "exp_df = eli5.explain_weights_df(perm, feature_names = list(X_train.columns))"
   ]
  },
  {
   "cell_type": "code",
   "execution_count": 75,
   "metadata": {},
   "outputs": [
    {
     "data": {
      "text/html": [
       "<div>\n",
       "<style scoped>\n",
       "    .dataframe tbody tr th:only-of-type {\n",
       "        vertical-align: middle;\n",
       "    }\n",
       "\n",
       "    .dataframe tbody tr th {\n",
       "        vertical-align: top;\n",
       "    }\n",
       "\n",
       "    .dataframe thead th {\n",
       "        text-align: right;\n",
       "    }\n",
       "</style>\n",
       "<table border=\"1\" class=\"dataframe\">\n",
       "  <thead>\n",
       "    <tr style=\"text-align: right;\">\n",
       "      <th></th>\n",
       "      <th>feature</th>\n",
       "      <th>weight</th>\n",
       "      <th>std</th>\n",
       "    </tr>\n",
       "  </thead>\n",
       "  <tbody>\n",
       "    <tr>\n",
       "      <th>0</th>\n",
       "      <td>last_reviewYear_is_na</td>\n",
       "      <td>3.424012e+10</td>\n",
       "      <td>2.377978e+08</td>\n",
       "    </tr>\n",
       "    <tr>\n",
       "      <th>1</th>\n",
       "      <td>cleaning_fee</td>\n",
       "      <td>1.400609e+09</td>\n",
       "      <td>8.593104e+08</td>\n",
       "    </tr>\n",
       "    <tr>\n",
       "      <th>2</th>\n",
       "      <td>cancellation_policy_x0_moderate</td>\n",
       "      <td>8.100512e+08</td>\n",
       "      <td>6.716501e+07</td>\n",
       "    </tr>\n",
       "    <tr>\n",
       "      <th>3</th>\n",
       "      <td>cancellation_policy_x0_strict_14_with_grace_pe...</td>\n",
       "      <td>5.838799e+08</td>\n",
       "      <td>3.405575e+07</td>\n",
       "    </tr>\n",
       "    <tr>\n",
       "      <th>4</th>\n",
       "      <td>calculated_host_listings_count</td>\n",
       "      <td>1.247281e+08</td>\n",
       "      <td>1.022577e+08</td>\n",
       "    </tr>\n",
       "    <tr>\n",
       "      <th>5</th>\n",
       "      <td>host_sinceYear</td>\n",
       "      <td>1.120993e+08</td>\n",
       "      <td>1.758752e+07</td>\n",
       "    </tr>\n",
       "    <tr>\n",
       "      <th>6</th>\n",
       "      <td>neighbourhood_cleansed_x0_Moabit West</td>\n",
       "      <td>2.103706e+06</td>\n",
       "      <td>4.367836e+06</td>\n",
       "    </tr>\n",
       "    <tr>\n",
       "      <th>7</th>\n",
       "      <td>neighbourhood_group_cleansed_x0_Friedrichshain...</td>\n",
       "      <td>1.966080e+06</td>\n",
       "      <td>3.380095e+06</td>\n",
       "    </tr>\n",
       "    <tr>\n",
       "      <th>8</th>\n",
       "      <td>neighbourhood_cleansed_x0_Osloer Straße</td>\n",
       "      <td>9.568256e+05</td>\n",
       "      <td>2.574606e+06</td>\n",
       "    </tr>\n",
       "    <tr>\n",
       "      <th>9</th>\n",
       "      <td>host_listings_count_is_na</td>\n",
       "      <td>3.538944e+05</td>\n",
       "      <td>3.210595e+04</td>\n",
       "    </tr>\n",
       "    <tr>\n",
       "      <th>10</th>\n",
       "      <td>neighbourhood_cleansed_x0_Wedding Zentrum</td>\n",
       "      <td>-1.310720e+04</td>\n",
       "      <td>2.293161e+06</td>\n",
       "    </tr>\n",
       "    <tr>\n",
       "      <th>11</th>\n",
       "      <td>neighbourhood_cleansed_x0_Parkviertel</td>\n",
       "      <td>-4.672717e+06</td>\n",
       "      <td>3.940812e+06</td>\n",
       "    </tr>\n",
       "    <tr>\n",
       "      <th>12</th>\n",
       "      <td>property_type_x0_Apartment</td>\n",
       "      <td>-1.312686e+07</td>\n",
       "      <td>7.750435e+06</td>\n",
       "    </tr>\n",
       "    <tr>\n",
       "      <th>13</th>\n",
       "      <td>neighbourhood_group_cleansed_x0_Mitte</td>\n",
       "      <td>-1.462764e+07</td>\n",
       "      <td>1.583232e+07</td>\n",
       "    </tr>\n",
       "    <tr>\n",
       "      <th>14</th>\n",
       "      <td>bathrooms</td>\n",
       "      <td>-2.048655e+07</td>\n",
       "      <td>1.076618e+07</td>\n",
       "    </tr>\n",
       "    <tr>\n",
       "      <th>15</th>\n",
       "      <td>room_type_x0_Entire home/apt</td>\n",
       "      <td>-3.519939e+07</td>\n",
       "      <td>3.450160e+07</td>\n",
       "    </tr>\n",
       "    <tr>\n",
       "      <th>16</th>\n",
       "      <td>bedrooms</td>\n",
       "      <td>-9.494856e+07</td>\n",
       "      <td>1.207986e+07</td>\n",
       "    </tr>\n",
       "    <tr>\n",
       "      <th>17</th>\n",
       "      <td>guests_included</td>\n",
       "      <td>-2.312045e+08</td>\n",
       "      <td>3.687023e+07</td>\n",
       "    </tr>\n",
       "    <tr>\n",
       "      <th>18</th>\n",
       "      <td>accommodates</td>\n",
       "      <td>-9.959244e+08</td>\n",
       "      <td>8.568395e+07</td>\n",
       "    </tr>\n",
       "    <tr>\n",
       "      <th>19</th>\n",
       "      <td>cancellation_policy_x0_flexible</td>\n",
       "      <td>-1.601405e+09</td>\n",
       "      <td>8.103262e+07</td>\n",
       "    </tr>\n",
       "    <tr>\n",
       "      <th>20</th>\n",
       "      <td>availability_90</td>\n",
       "      <td>-1.179153e+10</td>\n",
       "      <td>1.309780e+09</td>\n",
       "    </tr>\n",
       "    <tr>\n",
       "      <th>21</th>\n",
       "      <td>last_reviewElapsed</td>\n",
       "      <td>-3.280735e+16</td>\n",
       "      <td>1.178593e+16</td>\n",
       "    </tr>\n",
       "    <tr>\n",
       "      <th>22</th>\n",
       "      <td>host_sinceElapsed</td>\n",
       "      <td>-3.601724e+16</td>\n",
       "      <td>1.730338e+16</td>\n",
       "    </tr>\n",
       "  </tbody>\n",
       "</table>\n",
       "</div>"
      ],
      "text/plain": [
       "                                              feature        weight  \\\n",
       "0                               last_reviewYear_is_na  3.424012e+10   \n",
       "1                                        cleaning_fee  1.400609e+09   \n",
       "2                     cancellation_policy_x0_moderate  8.100512e+08   \n",
       "3   cancellation_policy_x0_strict_14_with_grace_pe...  5.838799e+08   \n",
       "4                      calculated_host_listings_count  1.247281e+08   \n",
       "5                                      host_sinceYear  1.120993e+08   \n",
       "6               neighbourhood_cleansed_x0_Moabit West  2.103706e+06   \n",
       "7   neighbourhood_group_cleansed_x0_Friedrichshain...  1.966080e+06   \n",
       "8             neighbourhood_cleansed_x0_Osloer Straße  9.568256e+05   \n",
       "9                           host_listings_count_is_na  3.538944e+05   \n",
       "10          neighbourhood_cleansed_x0_Wedding Zentrum -1.310720e+04   \n",
       "11              neighbourhood_cleansed_x0_Parkviertel -4.672717e+06   \n",
       "12                         property_type_x0_Apartment -1.312686e+07   \n",
       "13              neighbourhood_group_cleansed_x0_Mitte -1.462764e+07   \n",
       "14                                          bathrooms -2.048655e+07   \n",
       "15                       room_type_x0_Entire home/apt -3.519939e+07   \n",
       "16                                           bedrooms -9.494856e+07   \n",
       "17                                    guests_included -2.312045e+08   \n",
       "18                                       accommodates -9.959244e+08   \n",
       "19                    cancellation_policy_x0_flexible -1.601405e+09   \n",
       "20                                    availability_90 -1.179153e+10   \n",
       "21                                 last_reviewElapsed -3.280735e+16   \n",
       "22                                  host_sinceElapsed -3.601724e+16   \n",
       "\n",
       "             std  \n",
       "0   2.377978e+08  \n",
       "1   8.593104e+08  \n",
       "2   6.716501e+07  \n",
       "3   3.405575e+07  \n",
       "4   1.022577e+08  \n",
       "5   1.758752e+07  \n",
       "6   4.367836e+06  \n",
       "7   3.380095e+06  \n",
       "8   2.574606e+06  \n",
       "9   3.210595e+04  \n",
       "10  2.293161e+06  \n",
       "11  3.940812e+06  \n",
       "12  7.750435e+06  \n",
       "13  1.583232e+07  \n",
       "14  1.076618e+07  \n",
       "15  3.450160e+07  \n",
       "16  1.207986e+07  \n",
       "17  3.687023e+07  \n",
       "18  8.568395e+07  \n",
       "19  8.103262e+07  \n",
       "20  1.309780e+09  \n",
       "21  1.178593e+16  \n",
       "22  1.730338e+16  "
      ]
     },
     "execution_count": 75,
     "metadata": {},
     "output_type": "execute_result"
    }
   ],
   "source": [
    "exp_df"
   ]
  },
  {
   "cell_type": "code",
   "execution_count": 76,
   "metadata": {},
   "outputs": [],
   "source": [
    "from sklearn.linear_model import LassoCV"
   ]
  },
  {
   "cell_type": "code",
   "execution_count": 98,
   "metadata": {},
   "outputs": [],
   "source": [
    "alphas=np.linspace(.01, 10, 100)\n",
    "model = LassoCV(alphas = alphas, n_alphas = 100, max_iter= 100000).fit(X_train, y_train)\n"
   ]
  },
  {
   "cell_type": "code",
   "execution_count": 99,
   "metadata": {},
   "outputs": [],
   "source": [
    "df_X = pd.DataFrame({'features': X_train.columns, 'coef':model.coef_, 'coef_abs': np.abs(model.coef_)})"
   ]
  },
  {
   "cell_type": "code",
   "execution_count": 109,
   "metadata": {},
   "outputs": [
    {
     "data": {
      "text/html": [
       "<div>\n",
       "<style scoped>\n",
       "    .dataframe tbody tr th:only-of-type {\n",
       "        vertical-align: middle;\n",
       "    }\n",
       "\n",
       "    .dataframe tbody tr th {\n",
       "        vertical-align: top;\n",
       "    }\n",
       "\n",
       "    .dataframe thead th {\n",
       "        text-align: right;\n",
       "    }\n",
       "</style>\n",
       "<table border=\"1\" class=\"dataframe\">\n",
       "  <thead>\n",
       "    <tr style=\"text-align: right;\">\n",
       "      <th></th>\n",
       "      <th>features</th>\n",
       "      <th>coef</th>\n",
       "      <th>coef_abs</th>\n",
       "    </tr>\n",
       "  </thead>\n",
       "  <tbody>\n",
       "    <tr>\n",
       "      <th>0</th>\n",
       "      <td>cancellation_policy_x0_flexible</td>\n",
       "      <td>-2.710808e+01</td>\n",
       "      <td>2.710808e+01</td>\n",
       "    </tr>\n",
       "    <tr>\n",
       "      <th>1</th>\n",
       "      <td>cancellation_policy_x0_moderate</td>\n",
       "      <td>-2.557715e+01</td>\n",
       "      <td>2.557715e+01</td>\n",
       "    </tr>\n",
       "    <tr>\n",
       "      <th>2</th>\n",
       "      <td>cancellation_policy_x0_strict_14_with_grace_pe...</td>\n",
       "      <td>-2.400903e+01</td>\n",
       "      <td>2.400903e+01</td>\n",
       "    </tr>\n",
       "    <tr>\n",
       "      <th>3</th>\n",
       "      <td>accommodates</td>\n",
       "      <td>6.798253e+00</td>\n",
       "      <td>6.798253e+00</td>\n",
       "    </tr>\n",
       "    <tr>\n",
       "      <th>4</th>\n",
       "      <td>room_type_x0_Entire home/apt</td>\n",
       "      <td>2.018709e+01</td>\n",
       "      <td>2.018709e+01</td>\n",
       "    </tr>\n",
       "    <tr>\n",
       "      <th>5</th>\n",
       "      <td>availability_90</td>\n",
       "      <td>2.471423e-01</td>\n",
       "      <td>2.471423e-01</td>\n",
       "    </tr>\n",
       "    <tr>\n",
       "      <th>6</th>\n",
       "      <td>bedrooms</td>\n",
       "      <td>1.013042e+01</td>\n",
       "      <td>1.013042e+01</td>\n",
       "    </tr>\n",
       "    <tr>\n",
       "      <th>7</th>\n",
       "      <td>neighbourhood_group_cleansed_x0_Mitte</td>\n",
       "      <td>1.480026e+01</td>\n",
       "      <td>1.480026e+01</td>\n",
       "    </tr>\n",
       "    <tr>\n",
       "      <th>8</th>\n",
       "      <td>guests_included</td>\n",
       "      <td>6.232226e+00</td>\n",
       "      <td>6.232226e+00</td>\n",
       "    </tr>\n",
       "    <tr>\n",
       "      <th>9</th>\n",
       "      <td>cleaning_fee</td>\n",
       "      <td>2.163380e-01</td>\n",
       "      <td>2.163380e-01</td>\n",
       "    </tr>\n",
       "    <tr>\n",
       "      <th>10</th>\n",
       "      <td>calculated_host_listings_count</td>\n",
       "      <td>-9.853994e-01</td>\n",
       "      <td>9.853994e-01</td>\n",
       "    </tr>\n",
       "    <tr>\n",
       "      <th>11</th>\n",
       "      <td>bathrooms</td>\n",
       "      <td>1.077233e+01</td>\n",
       "      <td>1.077233e+01</td>\n",
       "    </tr>\n",
       "    <tr>\n",
       "      <th>12</th>\n",
       "      <td>neighbourhood_cleansed_x0_Moabit West</td>\n",
       "      <td>-1.859291e+01</td>\n",
       "      <td>1.859291e+01</td>\n",
       "    </tr>\n",
       "    <tr>\n",
       "      <th>13</th>\n",
       "      <td>neighbourhood_cleansed_x0_Osloer Straße</td>\n",
       "      <td>-1.986589e+01</td>\n",
       "      <td>1.986589e+01</td>\n",
       "    </tr>\n",
       "    <tr>\n",
       "      <th>14</th>\n",
       "      <td>neighbourhood_cleansed_x0_Parkviertel</td>\n",
       "      <td>-2.304789e+01</td>\n",
       "      <td>2.304789e+01</td>\n",
       "    </tr>\n",
       "    <tr>\n",
       "      <th>15</th>\n",
       "      <td>property_type_x0_Apartment</td>\n",
       "      <td>-9.071072e+00</td>\n",
       "      <td>9.071072e+00</td>\n",
       "    </tr>\n",
       "    <tr>\n",
       "      <th>16</th>\n",
       "      <td>neighbourhood_cleansed_x0_Wedding Zentrum</td>\n",
       "      <td>-1.679905e+01</td>\n",
       "      <td>1.679905e+01</td>\n",
       "    </tr>\n",
       "    <tr>\n",
       "      <th>17</th>\n",
       "      <td>neighbourhood_group_cleansed_x0_Friedrichshain...</td>\n",
       "      <td>4.990491e+00</td>\n",
       "      <td>4.990491e+00</td>\n",
       "    </tr>\n",
       "    <tr>\n",
       "      <th>18</th>\n",
       "      <td>last_reviewYear_is_na</td>\n",
       "      <td>0.000000e+00</td>\n",
       "      <td>0.000000e+00</td>\n",
       "    </tr>\n",
       "    <tr>\n",
       "      <th>19</th>\n",
       "      <td>host_listings_count_is_na</td>\n",
       "      <td>-0.000000e+00</td>\n",
       "      <td>0.000000e+00</td>\n",
       "    </tr>\n",
       "    <tr>\n",
       "      <th>20</th>\n",
       "      <td>host_sinceElapsed</td>\n",
       "      <td>8.760590e-10</td>\n",
       "      <td>8.760590e-10</td>\n",
       "    </tr>\n",
       "    <tr>\n",
       "      <th>21</th>\n",
       "      <td>host_sinceYear</td>\n",
       "      <td>-2.213254e-02</td>\n",
       "      <td>2.213254e-02</td>\n",
       "    </tr>\n",
       "    <tr>\n",
       "      <th>22</th>\n",
       "      <td>last_reviewElapsed</td>\n",
       "      <td>-5.756556e-10</td>\n",
       "      <td>5.756556e-10</td>\n",
       "    </tr>\n",
       "  </tbody>\n",
       "</table>\n",
       "</div>"
      ],
      "text/plain": [
       "                                             features          coef  \\\n",
       "0                     cancellation_policy_x0_flexible -2.710808e+01   \n",
       "1                     cancellation_policy_x0_moderate -2.557715e+01   \n",
       "2   cancellation_policy_x0_strict_14_with_grace_pe... -2.400903e+01   \n",
       "3                                        accommodates  6.798253e+00   \n",
       "4                        room_type_x0_Entire home/apt  2.018709e+01   \n",
       "5                                     availability_90  2.471423e-01   \n",
       "6                                            bedrooms  1.013042e+01   \n",
       "7               neighbourhood_group_cleansed_x0_Mitte  1.480026e+01   \n",
       "8                                     guests_included  6.232226e+00   \n",
       "9                                        cleaning_fee  2.163380e-01   \n",
       "10                     calculated_host_listings_count -9.853994e-01   \n",
       "11                                          bathrooms  1.077233e+01   \n",
       "12              neighbourhood_cleansed_x0_Moabit West -1.859291e+01   \n",
       "13            neighbourhood_cleansed_x0_Osloer Straße -1.986589e+01   \n",
       "14              neighbourhood_cleansed_x0_Parkviertel -2.304789e+01   \n",
       "15                         property_type_x0_Apartment -9.071072e+00   \n",
       "16          neighbourhood_cleansed_x0_Wedding Zentrum -1.679905e+01   \n",
       "17  neighbourhood_group_cleansed_x0_Friedrichshain...  4.990491e+00   \n",
       "18                              last_reviewYear_is_na  0.000000e+00   \n",
       "19                          host_listings_count_is_na -0.000000e+00   \n",
       "20                                  host_sinceElapsed  8.760590e-10   \n",
       "21                                     host_sinceYear -2.213254e-02   \n",
       "22                                 last_reviewElapsed -5.756556e-10   \n",
       "\n",
       "        coef_abs  \n",
       "0   2.710808e+01  \n",
       "1   2.557715e+01  \n",
       "2   2.400903e+01  \n",
       "3   6.798253e+00  \n",
       "4   2.018709e+01  \n",
       "5   2.471423e-01  \n",
       "6   1.013042e+01  \n",
       "7   1.480026e+01  \n",
       "8   6.232226e+00  \n",
       "9   2.163380e-01  \n",
       "10  9.853994e-01  \n",
       "11  1.077233e+01  \n",
       "12  1.859291e+01  \n",
       "13  1.986589e+01  \n",
       "14  2.304789e+01  \n",
       "15  9.071072e+00  \n",
       "16  1.679905e+01  \n",
       "17  4.990491e+00  \n",
       "18  0.000000e+00  \n",
       "19  0.000000e+00  \n",
       "20  8.760590e-10  \n",
       "21  2.213254e-02  \n",
       "22  5.756556e-10  "
      ]
     },
     "execution_count": 109,
     "metadata": {},
     "output_type": "execute_result"
    }
   ],
   "source": [
    "df_X"
   ]
  },
  {
   "cell_type": "code",
   "execution_count": 139,
   "metadata": {},
   "outputs": [],
   "source": [
    "from sklearn.linear_model import Ridge"
   ]
  },
  {
   "cell_type": "code",
   "execution_count": 140,
   "metadata": {},
   "outputs": [],
   "source": [
    "ridge = Ridge(alpha = 5)"
   ]
  },
  {
   "cell_type": "code",
   "execution_count": 141,
   "metadata": {},
   "outputs": [
    {
     "data": {
      "text/plain": [
       "Ridge(alpha=5)"
      ]
     },
     "execution_count": 141,
     "metadata": {},
     "output_type": "execute_result"
    }
   ],
   "source": [
    "ridge.fit(X_train_transformed, y_train)"
   ]
  },
  {
   "cell_type": "code",
   "execution_count": 142,
   "metadata": {},
   "outputs": [
    {
     "data": {
      "text/plain": [
       "0.5031503207706551"
      ]
     },
     "execution_count": 142,
     "metadata": {},
     "output_type": "execute_result"
    }
   ],
   "source": [
    "ridge.score(X_test_transformed, y_test)"
   ]
  },
  {
   "cell_type": "code",
   "execution_count": 143,
   "metadata": {},
   "outputs": [],
   "source": [
    "ridge_df = pd.DataFrame({'features': X_train.columns, 'coef': ridge.coef_, 'abs_coef': np.abs(ridge.coef_)})"
   ]
  },
  {
   "cell_type": "code",
   "execution_count": 144,
   "metadata": {},
   "outputs": [
    {
     "data": {
      "text/html": [
       "<div>\n",
       "<style scoped>\n",
       "    .dataframe tbody tr th:only-of-type {\n",
       "        vertical-align: middle;\n",
       "    }\n",
       "\n",
       "    .dataframe tbody tr th {\n",
       "        vertical-align: top;\n",
       "    }\n",
       "\n",
       "    .dataframe thead th {\n",
       "        text-align: right;\n",
       "    }\n",
       "</style>\n",
       "<table border=\"1\" class=\"dataframe\">\n",
       "  <thead>\n",
       "    <tr style=\"text-align: right;\">\n",
       "      <th></th>\n",
       "      <th>features</th>\n",
       "      <th>coef</th>\n",
       "      <th>abs_coef</th>\n",
       "    </tr>\n",
       "  </thead>\n",
       "  <tbody>\n",
       "    <tr>\n",
       "      <th>0</th>\n",
       "      <td>cancellation_policy_x0_flexible</td>\n",
       "      <td>-18.455542</td>\n",
       "      <td>18.455542</td>\n",
       "    </tr>\n",
       "    <tr>\n",
       "      <th>1</th>\n",
       "      <td>cancellation_policy_x0_moderate</td>\n",
       "      <td>-16.798064</td>\n",
       "      <td>16.798064</td>\n",
       "    </tr>\n",
       "    <tr>\n",
       "      <th>2</th>\n",
       "      <td>cancellation_policy_x0_strict_14_with_grace_pe...</td>\n",
       "      <td>-15.421565</td>\n",
       "      <td>15.421565</td>\n",
       "    </tr>\n",
       "    <tr>\n",
       "      <th>3</th>\n",
       "      <td>accommodates</td>\n",
       "      <td>10.101354</td>\n",
       "      <td>10.101354</td>\n",
       "    </tr>\n",
       "    <tr>\n",
       "      <th>4</th>\n",
       "      <td>room_type_x0_Entire home/apt</td>\n",
       "      <td>10.058070</td>\n",
       "      <td>10.058070</td>\n",
       "    </tr>\n",
       "    <tr>\n",
       "      <th>18</th>\n",
       "      <td>last_reviewYear_is_na</td>\n",
       "      <td>8.292196</td>\n",
       "      <td>8.292196</td>\n",
       "    </tr>\n",
       "    <tr>\n",
       "      <th>5</th>\n",
       "      <td>availability_90</td>\n",
       "      <td>6.979854</td>\n",
       "      <td>6.979854</td>\n",
       "    </tr>\n",
       "    <tr>\n",
       "      <th>6</th>\n",
       "      <td>bedrooms</td>\n",
       "      <td>6.346088</td>\n",
       "      <td>6.346088</td>\n",
       "    </tr>\n",
       "    <tr>\n",
       "      <th>7</th>\n",
       "      <td>neighbourhood_group_cleansed_x0_Mitte</td>\n",
       "      <td>6.175305</td>\n",
       "      <td>6.175305</td>\n",
       "    </tr>\n",
       "    <tr>\n",
       "      <th>22</th>\n",
       "      <td>last_reviewElapsed</td>\n",
       "      <td>5.955547</td>\n",
       "      <td>5.955547</td>\n",
       "    </tr>\n",
       "    <tr>\n",
       "      <th>8</th>\n",
       "      <td>guests_included</td>\n",
       "      <td>5.129473</td>\n",
       "      <td>5.129473</td>\n",
       "    </tr>\n",
       "    <tr>\n",
       "      <th>9</th>\n",
       "      <td>cleaning_fee</td>\n",
       "      <td>4.802818</td>\n",
       "      <td>4.802818</td>\n",
       "    </tr>\n",
       "    <tr>\n",
       "      <th>10</th>\n",
       "      <td>calculated_host_listings_count</td>\n",
       "      <td>-3.935681</td>\n",
       "      <td>3.935681</td>\n",
       "    </tr>\n",
       "    <tr>\n",
       "      <th>19</th>\n",
       "      <td>host_listings_count_is_na</td>\n",
       "      <td>-3.632490</td>\n",
       "      <td>3.632490</td>\n",
       "    </tr>\n",
       "    <tr>\n",
       "      <th>11</th>\n",
       "      <td>bathrooms</td>\n",
       "      <td>3.602313</td>\n",
       "      <td>3.602313</td>\n",
       "    </tr>\n",
       "    <tr>\n",
       "      <th>20</th>\n",
       "      <td>host_sinceElapsed</td>\n",
       "      <td>-3.316505</td>\n",
       "      <td>3.316505</td>\n",
       "    </tr>\n",
       "    <tr>\n",
       "      <th>14</th>\n",
       "      <td>neighbourhood_cleansed_x0_Parkviertel</td>\n",
       "      <td>-3.096018</td>\n",
       "      <td>3.096018</td>\n",
       "    </tr>\n",
       "    <tr>\n",
       "      <th>12</th>\n",
       "      <td>neighbourhood_cleansed_x0_Moabit West</td>\n",
       "      <td>-2.838185</td>\n",
       "      <td>2.838185</td>\n",
       "    </tr>\n",
       "    <tr>\n",
       "      <th>15</th>\n",
       "      <td>property_type_x0_Apartment</td>\n",
       "      <td>-2.819057</td>\n",
       "      <td>2.819057</td>\n",
       "    </tr>\n",
       "    <tr>\n",
       "      <th>16</th>\n",
       "      <td>neighbourhood_cleansed_x0_Wedding Zentrum</td>\n",
       "      <td>-2.614211</td>\n",
       "      <td>2.614211</td>\n",
       "    </tr>\n",
       "    <tr>\n",
       "      <th>13</th>\n",
       "      <td>neighbourhood_cleansed_x0_Osloer Straße</td>\n",
       "      <td>-2.537086</td>\n",
       "      <td>2.537086</td>\n",
       "    </tr>\n",
       "    <tr>\n",
       "      <th>17</th>\n",
       "      <td>neighbourhood_group_cleansed_x0_Friedrichshain...</td>\n",
       "      <td>2.186602</td>\n",
       "      <td>2.186602</td>\n",
       "    </tr>\n",
       "    <tr>\n",
       "      <th>21</th>\n",
       "      <td>host_sinceYear</td>\n",
       "      <td>0.451962</td>\n",
       "      <td>0.451962</td>\n",
       "    </tr>\n",
       "  </tbody>\n",
       "</table>\n",
       "</div>"
      ],
      "text/plain": [
       "                                             features       coef   abs_coef\n",
       "0                     cancellation_policy_x0_flexible -18.455542  18.455542\n",
       "1                     cancellation_policy_x0_moderate -16.798064  16.798064\n",
       "2   cancellation_policy_x0_strict_14_with_grace_pe... -15.421565  15.421565\n",
       "3                                        accommodates  10.101354  10.101354\n",
       "4                        room_type_x0_Entire home/apt  10.058070  10.058070\n",
       "18                              last_reviewYear_is_na   8.292196   8.292196\n",
       "5                                     availability_90   6.979854   6.979854\n",
       "6                                            bedrooms   6.346088   6.346088\n",
       "7               neighbourhood_group_cleansed_x0_Mitte   6.175305   6.175305\n",
       "22                                 last_reviewElapsed   5.955547   5.955547\n",
       "8                                     guests_included   5.129473   5.129473\n",
       "9                                        cleaning_fee   4.802818   4.802818\n",
       "10                     calculated_host_listings_count  -3.935681   3.935681\n",
       "19                          host_listings_count_is_na  -3.632490   3.632490\n",
       "11                                          bathrooms   3.602313   3.602313\n",
       "20                                  host_sinceElapsed  -3.316505   3.316505\n",
       "14              neighbourhood_cleansed_x0_Parkviertel  -3.096018   3.096018\n",
       "12              neighbourhood_cleansed_x0_Moabit West  -2.838185   2.838185\n",
       "15                         property_type_x0_Apartment  -2.819057   2.819057\n",
       "16          neighbourhood_cleansed_x0_Wedding Zentrum  -2.614211   2.614211\n",
       "13            neighbourhood_cleansed_x0_Osloer Straße  -2.537086   2.537086\n",
       "17  neighbourhood_group_cleansed_x0_Friedrichshain...   2.186602   2.186602\n",
       "21                                     host_sinceYear   0.451962   0.451962"
      ]
     },
     "execution_count": 144,
     "metadata": {},
     "output_type": "execute_result"
    }
   ],
   "source": [
    "ridge_df.sort_values('abs_coef', ascending = False)"
   ]
  },
  {
   "cell_type": "markdown",
   "metadata": {},
   "source": [
    "### Linear Model"
   ]
  },
  {
   "cell_type": "code",
   "execution_count": 134,
   "metadata": {},
   "outputs": [],
   "source": [
    "from sklearn.linear_model import LinearRegression\n",
    "\n",
    "linear = LinearRegression().fit(X_train_transformed, y_train)"
   ]
  },
  {
   "cell_type": "code",
   "execution_count": 135,
   "metadata": {},
   "outputs": [
    {
     "data": {
      "text/plain": [
       "0.5033415469476993"
      ]
     },
     "execution_count": 135,
     "metadata": {},
     "output_type": "execute_result"
    }
   ],
   "source": [
    "linear.score(X_test_transformed, y_test)"
   ]
  },
  {
   "cell_type": "code",
   "execution_count": 136,
   "metadata": {},
   "outputs": [],
   "source": [
    "linear_coef = pd.DataFrame({'features': X_train.columns, 'coef':linear.coef_, 'coef_abs': np.abs(linear.coef_)})"
   ]
  },
  {
   "cell_type": "code",
   "execution_count": 137,
   "metadata": {},
   "outputs": [
    {
     "data": {
      "text/html": [
       "<div>\n",
       "<style scoped>\n",
       "    .dataframe tbody tr th:only-of-type {\n",
       "        vertical-align: middle;\n",
       "    }\n",
       "\n",
       "    .dataframe tbody tr th {\n",
       "        vertical-align: top;\n",
       "    }\n",
       "\n",
       "    .dataframe thead th {\n",
       "        text-align: right;\n",
       "    }\n",
       "</style>\n",
       "<table border=\"1\" class=\"dataframe\">\n",
       "  <thead>\n",
       "    <tr style=\"text-align: right;\">\n",
       "      <th></th>\n",
       "      <th>features</th>\n",
       "      <th>coef</th>\n",
       "      <th>coef_abs</th>\n",
       "    </tr>\n",
       "  </thead>\n",
       "  <tbody>\n",
       "    <tr>\n",
       "      <th>18</th>\n",
       "      <td>last_reviewYear_is_na</td>\n",
       "      <td>139.217008</td>\n",
       "      <td>139.217008</td>\n",
       "    </tr>\n",
       "    <tr>\n",
       "      <th>22</th>\n",
       "      <td>last_reviewElapsed</td>\n",
       "      <td>136.917935</td>\n",
       "      <td>136.917935</td>\n",
       "    </tr>\n",
       "    <tr>\n",
       "      <th>0</th>\n",
       "      <td>cancellation_policy_x0_flexible</td>\n",
       "      <td>-20.365775</td>\n",
       "      <td>20.365775</td>\n",
       "    </tr>\n",
       "    <tr>\n",
       "      <th>1</th>\n",
       "      <td>cancellation_policy_x0_moderate</td>\n",
       "      <td>-18.703297</td>\n",
       "      <td>18.703297</td>\n",
       "    </tr>\n",
       "    <tr>\n",
       "      <th>2</th>\n",
       "      <td>cancellation_policy_x0_strict_14_with_grace_pe...</td>\n",
       "      <td>-17.266226</td>\n",
       "      <td>17.266226</td>\n",
       "    </tr>\n",
       "    <tr>\n",
       "      <th>3</th>\n",
       "      <td>accommodates</td>\n",
       "      <td>10.077555</td>\n",
       "      <td>10.077555</td>\n",
       "    </tr>\n",
       "    <tr>\n",
       "      <th>4</th>\n",
       "      <td>room_type_x0_Entire home/apt</td>\n",
       "      <td>10.076962</td>\n",
       "      <td>10.076962</td>\n",
       "    </tr>\n",
       "    <tr>\n",
       "      <th>19</th>\n",
       "      <td>host_listings_count_is_na</td>\n",
       "      <td>-8.711553</td>\n",
       "      <td>8.711553</td>\n",
       "    </tr>\n",
       "    <tr>\n",
       "      <th>20</th>\n",
       "      <td>host_sinceElapsed</td>\n",
       "      <td>-8.476337</td>\n",
       "      <td>8.476337</td>\n",
       "    </tr>\n",
       "    <tr>\n",
       "      <th>5</th>\n",
       "      <td>availability_90</td>\n",
       "      <td>6.715953</td>\n",
       "      <td>6.715953</td>\n",
       "    </tr>\n",
       "    <tr>\n",
       "      <th>6</th>\n",
       "      <td>bedrooms</td>\n",
       "      <td>6.350002</td>\n",
       "      <td>6.350002</td>\n",
       "    </tr>\n",
       "    <tr>\n",
       "      <th>7</th>\n",
       "      <td>neighbourhood_group_cleansed_x0_Mitte</td>\n",
       "      <td>6.175735</td>\n",
       "      <td>6.175735</td>\n",
       "    </tr>\n",
       "    <tr>\n",
       "      <th>8</th>\n",
       "      <td>guests_included</td>\n",
       "      <td>5.101046</td>\n",
       "      <td>5.101046</td>\n",
       "    </tr>\n",
       "    <tr>\n",
       "      <th>9</th>\n",
       "      <td>cleaning_fee</td>\n",
       "      <td>4.868959</td>\n",
       "      <td>4.868959</td>\n",
       "    </tr>\n",
       "    <tr>\n",
       "      <th>10</th>\n",
       "      <td>calculated_host_listings_count</td>\n",
       "      <td>-4.063589</td>\n",
       "      <td>4.063589</td>\n",
       "    </tr>\n",
       "    <tr>\n",
       "      <th>11</th>\n",
       "      <td>bathrooms</td>\n",
       "      <td>3.602521</td>\n",
       "      <td>3.602521</td>\n",
       "    </tr>\n",
       "    <tr>\n",
       "      <th>14</th>\n",
       "      <td>neighbourhood_cleansed_x0_Parkviertel</td>\n",
       "      <td>-3.109866</td>\n",
       "      <td>3.109866</td>\n",
       "    </tr>\n",
       "    <tr>\n",
       "      <th>12</th>\n",
       "      <td>neighbourhood_cleansed_x0_Moabit West</td>\n",
       "      <td>-2.831186</td>\n",
       "      <td>2.831186</td>\n",
       "    </tr>\n",
       "    <tr>\n",
       "      <th>15</th>\n",
       "      <td>property_type_x0_Apartment</td>\n",
       "      <td>-2.828109</td>\n",
       "      <td>2.828109</td>\n",
       "    </tr>\n",
       "    <tr>\n",
       "      <th>16</th>\n",
       "      <td>neighbourhood_cleansed_x0_Wedding Zentrum</td>\n",
       "      <td>-2.606531</td>\n",
       "      <td>2.606531</td>\n",
       "    </tr>\n",
       "    <tr>\n",
       "      <th>13</th>\n",
       "      <td>neighbourhood_cleansed_x0_Osloer Straße</td>\n",
       "      <td>-2.530007</td>\n",
       "      <td>2.530007</td>\n",
       "    </tr>\n",
       "    <tr>\n",
       "      <th>17</th>\n",
       "      <td>neighbourhood_group_cleansed_x0_Friedrichshain...</td>\n",
       "      <td>2.202093</td>\n",
       "      <td>2.202093</td>\n",
       "    </tr>\n",
       "    <tr>\n",
       "      <th>21</th>\n",
       "      <td>host_sinceYear</td>\n",
       "      <td>1.086606</td>\n",
       "      <td>1.086606</td>\n",
       "    </tr>\n",
       "  </tbody>\n",
       "</table>\n",
       "</div>"
      ],
      "text/plain": [
       "                                             features        coef    coef_abs\n",
       "18                              last_reviewYear_is_na  139.217008  139.217008\n",
       "22                                 last_reviewElapsed  136.917935  136.917935\n",
       "0                     cancellation_policy_x0_flexible  -20.365775   20.365775\n",
       "1                     cancellation_policy_x0_moderate  -18.703297   18.703297\n",
       "2   cancellation_policy_x0_strict_14_with_grace_pe...  -17.266226   17.266226\n",
       "3                                        accommodates   10.077555   10.077555\n",
       "4                        room_type_x0_Entire home/apt   10.076962   10.076962\n",
       "19                          host_listings_count_is_na   -8.711553    8.711553\n",
       "20                                  host_sinceElapsed   -8.476337    8.476337\n",
       "5                                     availability_90    6.715953    6.715953\n",
       "6                                            bedrooms    6.350002    6.350002\n",
       "7               neighbourhood_group_cleansed_x0_Mitte    6.175735    6.175735\n",
       "8                                     guests_included    5.101046    5.101046\n",
       "9                                        cleaning_fee    4.868959    4.868959\n",
       "10                     calculated_host_listings_count   -4.063589    4.063589\n",
       "11                                          bathrooms    3.602521    3.602521\n",
       "14              neighbourhood_cleansed_x0_Parkviertel   -3.109866    3.109866\n",
       "12              neighbourhood_cleansed_x0_Moabit West   -2.831186    2.831186\n",
       "15                         property_type_x0_Apartment   -2.828109    2.828109\n",
       "16          neighbourhood_cleansed_x0_Wedding Zentrum   -2.606531    2.606531\n",
       "13            neighbourhood_cleansed_x0_Osloer Straße   -2.530007    2.530007\n",
       "17  neighbourhood_group_cleansed_x0_Friedrichshain...    2.202093    2.202093\n",
       "21                                     host_sinceYear    1.086606    1.086606"
      ]
     },
     "execution_count": 137,
     "metadata": {},
     "output_type": "execute_result"
    }
   ],
   "source": [
    "linear_coef.sort_values('coef_abs', ascending = False)"
   ]
  },
  {
   "cell_type": "markdown",
   "metadata": {},
   "source": [
    "### The goal"
   ]
  },
  {
   "cell_type": "markdown",
   "metadata": {},
   "source": [
    "The idea is that we can reduce the complexity of the model without sacrificing too much in terms of the performance of the model."
   ]
  },
  {
   "cell_type": "markdown",
   "metadata": {},
   "source": [
    "So we can see that by reducing, if not removing altogether, the influence of the last few columns we were able to achieve a simpler model."
   ]
  },
  {
   "cell_type": "code",
   "execution_count": 101,
   "metadata": {},
   "outputs": [
    {
     "data": {
      "text/plain": [
       "0.5036268239153381"
      ]
     },
     "execution_count": 101,
     "metadata": {},
     "output_type": "execute_result"
    }
   ],
   "source": [
    "model.score(X_test, y_test)"
   ]
  },
  {
   "cell_type": "code",
   "execution_count": 102,
   "metadata": {},
   "outputs": [
    {
     "data": {
      "text/plain": [
       "0.01"
      ]
     },
     "execution_count": 102,
     "metadata": {},
     "output_type": "execute_result"
    }
   ],
   "source": [
    "model.alpha_"
   ]
  },
  {
   "cell_type": "code",
   "execution_count": 105,
   "metadata": {},
   "outputs": [
    {
     "data": {
      "text/plain": [
       "239.45315102777792"
      ]
     },
     "execution_count": 105,
     "metadata": {},
     "output_type": "execute_result"
    }
   ],
   "source": [
    "sum(df_X.coef_abs) # lasso model"
   ]
  },
  {
   "cell_type": "code",
   "execution_count": 107,
   "metadata": {},
   "outputs": [
    {
     "data": {
      "text/plain": [
       "423.8848505366087"
      ]
     },
     "execution_count": 107,
     "metadata": {},
     "output_type": "execute_result"
    }
   ],
   "source": [
    "sum(df_coef.abs_coef)"
   ]
  },
  {
   "cell_type": "markdown",
   "metadata": {},
   "source": [
    "So we can see that we cut in half the score coeficients of the model without drastically changing the score of the model."
   ]
  },
  {
   "cell_type": "code",
   "execution_count": null,
   "metadata": {},
   "outputs": [],
   "source": []
  }
 ],
 "metadata": {
  "kernelspec": {
   "display_name": "Python 3",
   "language": "python",
   "name": "python3"
  },
  "language_info": {
   "codemirror_mode": {
    "name": "ipython",
    "version": 3
   },
   "file_extension": ".py",
   "mimetype": "text/x-python",
   "name": "python",
   "nbconvert_exporter": "python",
   "pygments_lexer": "ipython3",
   "version": "3.7.4"
  }
 },
 "nbformat": 4,
 "nbformat_minor": 4
}
